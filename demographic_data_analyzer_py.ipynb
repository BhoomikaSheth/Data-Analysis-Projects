{
  "nbformat": 4,
  "nbformat_minor": 0,
  "metadata": {
    "colab": {
      "provenance": [],
      "authorship_tag": "ABX9TyO6M0OSWkQUQcqVbc3jUK4+",
      "include_colab_link": true
    },
    "kernelspec": {
      "name": "python3",
      "display_name": "Python 3"
    },
    "language_info": {
      "name": "python"
    }
  },
  "cells": [
    {
      "cell_type": "markdown",
      "metadata": {
        "id": "view-in-github",
        "colab_type": "text"
      },
      "source": [
        "<a href=\"https://colab.research.google.com/github/BhoomikaSheth/Data-Analysis-Projects/blob/main/demographic_data_analyzer_py.ipynb\" target=\"_parent\"><img src=\"https://colab.research.google.com/assets/colab-badge.svg\" alt=\"Open In Colab\"/></a>"
      ]
    },
    {
      "cell_type": "markdown",
      "source": [
        "### Problem statement\n",
        "\n",
        "Challenge: Demographic data analyzer\n",
        "\n",
        "link: https://drive.google.com/u/0/uc?id=1Ll-CFrUlyafq8Gt16VKMB0xd-_05cGXZ&export=download\n",
        "\n",
        "In this challenge you must analyze demographic data using Pandas. You are given a dataset of demographic data that was extracted from the 1994 Census database. Here is a sample of what the data looks like:\n",
        "\n",
        "```\n",
        "|    |   age | workclass        |   fnlwgt | education   |   education-num | marital-status     | occupation        | relationship   | race   | sex    |   capital-gain |   capital-loss |   hours-per-week | native-country   | salary   |\n",
        "|---:|------:|:-----------------|---------:|:------------|----------------:|:-------------------|:------------------|:---------------|:-------|:-------|---------------:|---------------:|-----------------:|:-----------------|:---------|\n",
        "|  0 |    39 | State-gov        |    77516 | Bachelors   |              13 | Never-married      | Adm-clerical      | Not-in-family  | White  | Male   |           2174 |              0 |               40 | United-States    | <=50K    |\n",
        "|  1 |    50 | Self-emp-not-inc |    83311 | Bachelors   |              13 | Married-civ-spouse | Exec-managerial   | Husband        | White  | Male   |              0 |              0 |               13 | United-States    | <=50K    |\n",
        "|  2 |    38 | Private          |   215646 | HS-grad     |               9 | Divorced           | Handlers-cleaners | Not-in-family  | White  | Male   |              0 |              0 |               40 | United-States    | <=50K    |\n",
        "|  3 |    53 | Private          |   234721 | 11th        |               7 | Married-civ-spouse | Handlers-cleaners | Husband        | Black  | Male   |              0 |              0 |               40 | United-States    | <=50K    |\n",
        "|  4 |    28 | Private          |   338409 | Bachelors   |              13 | Married-civ-spouse | Prof-specialty    | Wife           | Black  | Female |              0 |              0 |               40 | Cuba             | <=50K    |\n",
        "```\n",
        "\n",
        "You must use Pandas to answer the following questions:\n",
        "\n",
        "How many people of each race are represented in this dataset? This should be a Pandas series with race names as the index labels. (race column)\n",
        "\n",
        "\n",
        "What is the average age of men?\n",
        "\n",
        "\n",
        "What is the percentage of people who have a Bachelor's degree?\n",
        "\n",
        "\n",
        "What percentage of people with advanced education (Bachelors, Masters, or Doctorate) make more than 50K?\n",
        "\n",
        "\n",
        "What percentage of people without advanced education make more than 50K?\n",
        "\n",
        "\n",
        "What is the minimum number of hours a person works per week?\n",
        "\n",
        "\n",
        "What percentage of the people who work the minimum number of hours per week have a salary of more than 50K?\n",
        "\n",
        "\n",
        "What country has the highest percentage of people that earn >50K and what is that percentage? \n",
        "\n",
        "\n",
        "Identify the most popular occupation for those who earn >50K in India.\n"
      ],
      "metadata": {
        "id": "3ZxapZ1ewjPp"
      }
    },
    {
      "cell_type": "code",
      "execution_count": 1,
      "metadata": {
        "id": "V2xqzrCMx0JU",
        "colab": {
          "base_uri": "https://localhost:8080/"
        },
        "outputId": "2f6abf0c-b13f-46f0-91eb-55036fd92ec9"
      },
      "outputs": [
        {
          "output_type": "stream",
          "name": "stdout",
          "text": [
            "Number of each race:\n",
            " White                 27816\n",
            "Black                  3124\n",
            "Asian-Pac-Islander     1039\n",
            "Amer-Indian-Eskimo      311\n",
            "Other                   271\n",
            "Name: race, dtype: int64\n",
            "Average age of men: 39.4\n",
            "Percentage with Bachelors degrees: 16.4%\n",
            "Percentage with higher education that earn >50K: 46.5%\n",
            "Percentage without higher education that earn >50K: 17.4%\n",
            "Min work time: 1 hours/week\n",
            "Percentage of rich among those who work fewest hours: 10.0%\n",
            "Country with highest percentage of rich: Iran\n",
            "Highest percentage of rich people in country: 41.9%\n",
            "Top occupations in India: Prof-specialty\n"
          ]
        },
        {
          "output_type": "execute_result",
          "data": {
            "text/plain": [
              "{'race_count': White                 27816\n",
              " Black                  3124\n",
              " Asian-Pac-Islander     1039\n",
              " Amer-Indian-Eskimo      311\n",
              " Other                   271\n",
              " Name: race, dtype: int64,\n",
              " 'average_age_men': 39.4,\n",
              " 'percentage_bachelors': 16.4,\n",
              " 'higher_education_rich': 46.5,\n",
              " 'lower_education_rich': 17.4,\n",
              " 'min_work_hours': 1,\n",
              " 'rich_percentage': 10.0,\n",
              " 'highest_earning_country': 'Iran',\n",
              " 'highest_earning_country_percentage': 41.9,\n",
              " 'top_IN_occupation': 'Prof-specialty'}"
            ]
          },
          "metadata": {},
          "execution_count": 1
        }
      ],
      "source": [
        "import pandas as pd\n",
        "\n",
        "\n",
        "def calculate_demographic_data(print_data=True):\n",
        "    # Read data from file\n",
        "    df = pd.read_csv(\"https://drive.google.com/u/0/uc?id=1Ll-CFrUlyafq8Gt16VKMB0xd-_05cGXZ&export=download\")\n",
        "    #df = pd.read_csv(\"../practice/adult_data.csv\")\n",
        "\n",
        "    # How many of each race are represented in this dataset? This should be a Pandas series with race names as the index labels.\n",
        "    race_count = df[\"race\"].value_counts()\n",
        "\n",
        "    # What is the average age of men?\n",
        "    average_age_men = round(df.loc[df[\"sex\"]==\"Male\",\"age\"].mean(),1)\n",
        "\n",
        "    # What is the percentage of people who have a Bachelor's degree?\n",
        "    percentage_bachelors = round(df.loc[df[\"education\"]==\"Bachelors\",\"education\"].count()*100/df.shape[0],1)\n",
        "\n",
        "    # What percentage of people with advanced education (`Bachelors`, `Masters`, or `Doctorate`) make more than 50K?\n",
        "    # What percentage of people without advanced education make more than 50K?\n",
        "\n",
        "    # with and without `Bachelors`, `Masters`, or `Doctorate`\n",
        "    higher_education = df.loc[(df[\"education\"]==\"Bachelors\")|(df[\"education\"]==\"Masters\")|(df[\"education\"]==\"Doctorate\")]\n",
        "    lower_education = df.loc[~((df[\"education\"]==\"Bachelors\")|(df[\"education\"]==\"Masters\")|(df[\"education\"]==\"Doctorate\"))]\n",
        "    # percentage with salary >50K\n",
        "    higher_education_rich = round(higher_education.loc[higher_education[\"salary\"]==\">50K\",\"salary\"].shape[0]*100/higher_education.shape[0],1)\n",
        "    lower_education_rich = round(lower_education.loc[lower_education[\"salary\"]==\">50K\",\"salary\"].shape[0]*100/lower_education.shape[0],1)\n",
        "\n",
        "    # What is the minimum number of hours a person works per week (hours-per-week feature)?\n",
        "    min_work_hours = df[\"hours-per-week\"].min()\n",
        "\n",
        "    # What percentage of the people who work the minimum number of hours per week have a salary of >50K?\n",
        "    num_min_workers = df.loc[df[\"hours-per-week\"]==df[\"hours-per-week\"].min()]\n",
        "\n",
        "    rich_percentage=round(num_min_workers[num_min_workers[\"salary\"]==\">50K\"].shape[0]*100/num_min_workers.shape[0],1)\n",
        "    # What country has the highest percentage of people that earn >50K?\n",
        "    \n",
        "    highest_earning_country=pd.Series([df.loc[(df[\"native-country\"]==i) &(df[\"salary\"]==\">50K\"),\"native-country\"].shape[0]*100/df[df[\"native-country\"]==i].shape[0] for i in df[\"native-country\"].unique()],index=df[\"native-country\"].unique()).idxmax()\n",
        "    highest_earning_country_percentage = round(pd.Series([df.loc[(df[\"native-country\"]==i) &(df[\"salary\"]==\">50K\"),\"native-country\"].shape[0]*100/df[df[\"native-country\"]==i].shape[0] for i in df[\"native-country\"].unique()],index=df[\"native-country\"].unique()).max(),1)\n",
        "    # Identify the most popular occupation for those who earn >50K in India.\n",
        "    top_IN_occupation = df.loc[(df[\"native-country\"]==\"India\")&(df[\"salary\"]==\">50K\"),\"occupation\"].value_counts().index[0]\n",
        "\n",
        "    # DO NOT MODIFY BELOW THIS LINE\n",
        "\n",
        "    if print_data:\n",
        "        print(\"Number of each race:\\n\", race_count) \n",
        "        print(\"Average age of men:\", average_age_men)\n",
        "        print(f\"Percentage with Bachelors degrees: {percentage_bachelors}%\")\n",
        "        print(f\"Percentage with higher education that earn >50K: {higher_education_rich}%\")\n",
        "        print(f\"Percentage without higher education that earn >50K: {lower_education_rich}%\")\n",
        "        print(f\"Min work time: {min_work_hours} hours/week\")\n",
        "        print(f\"Percentage of rich among those who work fewest hours: {rich_percentage}%\")\n",
        "        print(\"Country with highest percentage of rich:\", highest_earning_country)\n",
        "        print(f\"Highest percentage of rich people in country: {highest_earning_country_percentage}%\")\n",
        "        print(\"Top occupations in India:\", top_IN_occupation)\n",
        "\n",
        "    return {\n",
        "        'race_count': race_count,\n",
        "        'average_age_men': average_age_men,\n",
        "        'percentage_bachelors': percentage_bachelors,\n",
        "        'higher_education_rich': higher_education_rich,\n",
        "        'lower_education_rich': lower_education_rich,\n",
        "        'min_work_hours': min_work_hours,\n",
        "        'rich_percentage': rich_percentage,\n",
        "        'highest_earning_country': highest_earning_country,\n",
        "        'highest_earning_country_percentage':\n",
        "        highest_earning_country_percentage,\n",
        "        'top_IN_occupation': top_IN_occupation\n",
        "    }\n",
        "calculate_demographic_data()"
      ]
    }
  ]
}