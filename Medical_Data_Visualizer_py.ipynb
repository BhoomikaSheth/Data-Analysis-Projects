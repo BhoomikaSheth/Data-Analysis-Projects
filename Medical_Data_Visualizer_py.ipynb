{
  "nbformat": 4,
  "nbformat_minor": 0,
  "metadata": {
    "colab": {
      "provenance": [],
      "authorship_tag": "ABX9TyPTz191fp2NuIOhsA1d2D0w",
      "include_colab_link": true
    },
    "kernelspec": {
      "name": "python3",
      "display_name": "Python 3"
    },
    "language_info": {
      "name": "python"
    }
  },
  "cells": [
    {
      "cell_type": "markdown",
      "metadata": {
        "id": "view-in-github",
        "colab_type": "text"
      },
      "source": [
        "<a href=\"https://colab.research.google.com/github/BhoomikaSheth/Data-Analysis-Projects/blob/main/Medical_Data_Visualizer_py.ipynb\" target=\"_parent\"><img src=\"https://colab.research.google.com/assets/colab-badge.svg\" alt=\"Open In Colab\"/></a>"
      ]
    },
    {
      "cell_type": "markdown",
      "source": [
        "### Problem statement\n",
        "\n",
        "In this project, you will visualize and make calculations from medical examination data using matplotlib, seaborn, and pandas. The dataset values were collected during medical examinations.\n",
        "\n",
        "Data description\n",
        "The rows in the dataset represent patients and the columns represent information like body measurements, results from various blood tests, and lifestyle choices. You will use the dataset to explore the relationship between cardiac disease, body measurements, blood markers, and lifestyle choices.\n",
        "\n",
        "File name: medical_examination.csv\n",
        "\n",
        "```\n",
        "\n",
        "\n",
        "Feature\t                                    | Variable Type\t    | Variable\t| Value Type\n",
        "Age\t                                        | Objective Feature\t| age\t    | int (days)\n",
        "Height\t                                    | Objective Feature\t| height\t| int (cm)\n",
        "Weight\t                                    | Objective Feature\t| weight\t| float (kg)\n",
        "Gender\t                                    | Objective Feature\t| gender\t| categorical code\n",
        "Systolic blood pressure\t                    | Examination Feature\t| ap_hi\t| int\n",
        "Diastolic blood pressure                    | Examination Feature\t| ap_lo\t| int\n",
        "Cholesterol\t                                | Examination Feature\t| cholesterol\t| 1: normal, 2: above normal, 3: well above normal\n",
        "Glucose\t                                    | Examination Feature\t| gluc\t| 1: normal, 2: above normal, 3: well above normal\n",
        "Smoking\t                                    | Subjective Feature\t| smoke\t| binary\n",
        "Alcohol intake\t                            | Subjective Feature\t| alco\t| binary\n",
        "Physical activity\t                        | Subjective Feature\t| active\t| binary\n",
        "Presence/absence of cardiovascular disease\t| Target Variable |\tcardio\t| binary\n",
        "\n",
        "```\n",
        "\n",
        "Create a chart similar to examples/Figure_1.png, where we show the counts of good and bad outcomes for the cholesterol, gluc, alco, active, and smoke variables for patients with cardio=1 and cardio=0 in different panels.\n",
        "\n",
        "Use the data to complete the following tasks in medical_data_visualizer.py:\n",
        "\n",
        "Add an overweight column to the data. To determine if a person is overweight, first calculate their BMI by dividing their weight in kilograms by the square of their height in meters. If that value is > 25 then the person is overweight. Use the value 0 for NOT overweight and the value 1 for overweight.\n",
        "\n",
        "\n",
        "Normalize the data by making 0 always good and 1 always bad. If the value of cholesterol or gluc is 1, make the value 0. If the value is more than 1, make the value 1.\n",
        "\n",
        "\n",
        "Convert the data into long format and create a chart that shows the value counts of the categorical features using seaborn's catplot(). The dataset should be split by 'Cardio' so there is one chart for each cardio value. The chart should look like examples/Figure_1.png.\n",
        "\n",
        "\n",
        "Clean the data. Filter out the following patient segments that represent incorrect data:\n",
        "* diastolic pressure is higher than systolic (Keep the correct data with (df['ap_lo'] <= df['ap_hi']))\n",
        "* height is less than the 2.5th percentile (Keep the correct data with (df['height'] >= df['height'].quantile(0.025)))\n",
        "* height is more than the 97.5th percentile\n",
        "* weight is less than the 2.5th percentile\n",
        "* weight is more than the 97.5th percentile\n",
        "\n",
        "\n",
        "Create a correlation matrix using the dataset. Plot the correlation matrix using seaborn's heatmap(). Mask the upper triangle. The chart should look like examples/Figure_2.png.\n",
        "\n",
        "\n",
        "Any time a variable is set to None, make sure to set it to the correct code."
      ],
      "metadata": {
        "id": "PIkJAJ6-xD2R"
      }
    },
    {
      "cell_type": "code",
      "execution_count": 11,
      "metadata": {
        "id": "UPCPC1XuahXN"
      },
      "outputs": [],
      "source": [
        "import pandas as pd\n",
        "import seaborn as sns\n",
        "import matplotlib.pyplot as plt\n",
        "import numpy as np\n",
        "\n",
        "# Import data\n",
        "#df = pd.read_csv(\"medical_examination.csv\")\n",
        "df = pd.read_csv(\"https://drive.google.com/uc?export=download&id=1ruipEnE_rrhY2nl6KYe4lXCRX0jxuYIT\")\n",
        "\n",
        "# Add 'overweight' column\n",
        "df['overweight'] = pd.Series([1 if (df.loc[i,\"weight\"]/(df.loc[i,\"height\"]/100)**2)>25 else 0 for i in df.index])\n",
        "\n",
        "# Normalize data by making 0 always good and 1 always bad. If the value of 'cholesterol' or 'gluc' is 1, make the value 0. If the value is more than 1, make the value 1.\n",
        "df[\"cholesterol\"]=pd.Series([0 if df.loc[i,\"cholesterol\"]==1 else 1 for i in df.index])\n",
        "df[\"gluc\"]=pd.Series([0 if df.loc[i,\"gluc\"]==1 else 1 for i in df.index])\n",
        "\n",
        "# Draw Categorical Plot\n",
        "def draw_cat_plot():\n",
        "    # Create DataFrame for cat plot using `pd.melt` using just the values from 'cholesterol', 'gluc', 'smoke', 'alco', 'active', and 'overweight'.\n",
        "    df_cat = pd.melt(df,id_vars='cardio',value_vars=('cardio','cholesterol', 'gluc', 'smoke', 'alco', 'active', 'overweight'))\n",
        "\n",
        "    # Group and reformat the data to split it by 'cardio'. Show the counts of each feature. You will have to rename one of the columns for the catplot to work correctly.\n",
        "    df_cat2 = df_cat.groupby(\"cardio\")\n",
        "    df_cat2.get_group(0).count()\n",
        "    df_cat2.get_group(1).count()\n",
        "    # Draw the catplot with 'sns.catplot()'\n",
        "    plt.figure(figsize=(18,5))\n",
        "    sns.catplot(x=\"variable\",hue=\"value\",data=df_cat,kind=\"count\",col=\"cardio\",)\n",
        "\n",
        "    # Do not modify the next two lines\n",
        "    fig=plt.savefig('catplot.png')\n",
        "    return fig\n",
        "\n",
        "# Draw Heat Map\n",
        "def draw_heat_map():\n",
        "    # Clean the data\n",
        "    df_heat=df[df['ap_lo'] <= df['ap_hi']]\n",
        "    df_heat=df_heat[df_heat['height'] >= df_heat['height'].quantile(0.025)]\n",
        "    df_heat=df_heat[df_heat['height'] <= df_heat['height'].quantile(0.975)]\n",
        "    df_heat=df_heat[df_heat['weight'] >= df_heat['weight'].quantile(0.025)]\n",
        "    df_heat=df_heat[df_heat['weight'] <= df_heat['weight'].quantile(0.975)]\n",
        "\n",
        "    # Calculate the correlation matrix\n",
        "    corr = df_heat.corr()\n",
        "\n",
        "    # Generate a mask for the upper triangle\n",
        "    mask = np.zeros_like(corr)\n",
        "    mask[np.triu_indices_from(mask)] = True\n",
        "\n",
        "    # Set up the matplotlib figure\n",
        "    sns.axes_style(\"white\")\n",
        "    plt.figure(figsize=(7, 7))\n",
        "    \n",
        "    # Draw the heatmap with 'sns.heatmap()'\n",
        "    sns.heatmap(corr, mask=mask, vmax=.3, square=True)\n",
        "\n",
        "    # Do not modify the next two lines\n",
        "    fig=plt.savefig('heatmap.png')\n",
        "    return fig"
      ]
    },
    {
      "cell_type": "code",
      "source": [
        "draw_cat_plot()"
      ],
      "metadata": {
        "colab": {
          "base_uri": "https://localhost:8080/",
          "height": 387
        },
        "id": "oe_IJE5gZI9S",
        "outputId": "b32a07c9-b053-4279-e5e8-0b49e086104c"
      },
      "execution_count": 10,
      "outputs": [
        {
          "output_type": "display_data",
          "data": {
            "text/plain": [
              "<Figure size 1296x360 with 0 Axes>"
            ]
          },
          "metadata": {}
        },
        {
          "output_type": "display_data",
          "data": {
            "text/plain": [
              "<Figure size 762.375x360 with 2 Axes>"
            ],
            "image/png": "[encoded data removed]"
          },
          "metadata": {
            "needs_background": "light"
          }
        }
      ]
    },
    {
      "cell_type": "code",
      "source": [
        "draw_heat_map()"
      ],
      "metadata": {
        "colab": {
          "base_uri": "https://localhost:8080/",
          "height": 444
        },
        "id": "whwoMH-qZNTj",
        "outputId": "5397d924-9d9c-4125-b12f-047dbc933967"
      },
      "execution_count": 12,
      "outputs": [
        {
          "output_type": "display_data",
          "data": {
            "text/plain": [
              "<Figure size 504x504 with 2 Axes>"
            ],
            "image/png": "[encoded data removed]"
          },
          "metadata": {
            "needs_background": "light"
          }
        }
      ]
    }
  ]
}